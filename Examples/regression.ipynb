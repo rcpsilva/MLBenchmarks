{
 "cells": [
  {
   "cell_type": "markdown",
   "metadata": {},
   "source": [
    "# Benchmarking regression models with MLBenchmarks"
   ]
  },
  {
   "cell_type": "markdown",
   "metadata": {},
   "source": [
    "## Installation"
   ]
  },
  {
   "cell_type": "code",
   "execution_count": null,
   "metadata": {},
   "outputs": [],
   "source": [
    "!pip uninstall -y MLBenchmarks && pip install git+https://github.com/rcpsilva/MLBenchmarks@main"
   ]
  },
  {
   "cell_type": "markdown",
   "metadata": {},
   "source": [
    "## Imports"
   ]
  },
  {
   "cell_type": "code",
   "execution_count": 1,
   "metadata": {},
   "outputs": [],
   "source": [
    "from sklearn.linear_model import LinearRegression\n",
    "from sklearn.tree import DecisionTreeRegressor\n",
    "from sklearn.pipeline import Pipeline, FeatureUnion\n",
    "from sklearn.decomposition import PCA\n",
    "from sklearn.preprocessing import PolynomialFeatures\n",
    "from MLBenchmarks.benchmarking_methods  import load_regression_datasets, run_cross_dataset_benchmark_models\n",
    "from MLBenchmarks.benchmarking_methods import count_datasets"
   ]
  },
  {
   "cell_type": "code",
   "execution_count": 2,
   "metadata": {},
   "outputs": [
    {
     "name": "stdout",
     "output_type": "stream",
     "text": [
      "['load_auto_mpg', 'load_bike_sharing_day', 'load_bike_sharing_hour', 'load_concrete_strength', 'load_energy_efficiency_y1', 'load_energy_efficiency_y2', 'load_facebook_comments', 'load_facebook_engaged_users', 'load_facebook_impressions_liked', 'load_facebook_lifetime_impressions', 'load_facebook_lifetime_reach', 'load_facebook_liked_engaged', 'load_facebook_post_consumers', 'load_facebook_post_consumptions', 'load_facebook_post_interactions', 'load_facebook_post_likes', 'load_facebook_post_shares', 'load_facebook_reach_liked', 'load_forest_fires', 'load_obesity_levels', 'load_real_state_valuation', 'load_spm_demagnetization_FEM', 'load_spm_demagnetization_analytical', 'load_student_mat', 'load_student_por', 'load_wine_quality_red', 'load_wine_quality_white']\n",
      "27 regression datasets\n"
     ]
    },
    {
     "ename": "AttributeError",
     "evalue": "module 'MLBenchmarks.classification_datasets_loaders' has no attribute 'load_auto_mpg'",
     "output_type": "error",
     "traceback": [
      "\u001b[1;31m---------------------------------------------------------------------------\u001b[0m",
      "\u001b[1;31mAttributeError\u001b[0m                            Traceback (most recent call last)",
      "\u001b[1;32mc:\\Users\\rcpsi\\source\\repos\\MLBenchmarks\\Examples\\regression.ipynb Cell 6\u001b[0m line \u001b[0;36m1\n\u001b[1;32m----> <a href='vscode-notebook-cell:/c%3A/Users/rcpsi/source/repos/MLBenchmarks/Examples/regression.ipynb#W5sZmlsZQ%3D%3D?line=0'>1</a>\u001b[0m count_datasets()\n",
      "File \u001b[1;32mc:\\Users\\rcpsi\\AppData\\Local\\Programs\\Python\\Python312\\Lib\\site-packages\\MLBenchmarks\\benchmarking_methods.py:28\u001b[0m, in \u001b[0;36mcount_datasets\u001b[1;34m()\u001b[0m\n\u001b[0;32m     24\u001b[0m         count \u001b[39m+\u001b[39m\u001b[39m=\u001b[39m \u001b[39m1\u001b[39m\n\u001b[0;32m     26\u001b[0m \u001b[39mprint\u001b[39m(\u001b[39mf\u001b[39m\u001b[39m'\u001b[39m\u001b[39m{\u001b[39;00mcount\u001b[39m}\u001b[39;00m\u001b[39m regression datasets\u001b[39m\u001b[39m'\u001b[39m)\n\u001b[1;32m---> 28\u001b[0m methods \u001b[39m=\u001b[39m [attr \u001b[39mfor\u001b[39;00m attr \u001b[39min\u001b[39;00m module_attributes \u001b[39mif\u001b[39;00m \u001b[39mcallable\u001b[39m(\u001b[39mgetattr\u001b[39;49m(classification_datasets_loaders, attr))]\n\u001b[0;32m     29\u001b[0m \u001b[39mprint\u001b[39m(methods)\n\u001b[0;32m     31\u001b[0m count \u001b[39m=\u001b[39m \u001b[39m0\u001b[39m\n",
      "\u001b[1;31mAttributeError\u001b[0m: module 'MLBenchmarks.classification_datasets_loaders' has no attribute 'load_auto_mpg'"
     ]
    }
   ],
   "source": [
    "count_datasets()"
   ]
  },
  {
   "cell_type": "markdown",
   "metadata": {},
   "source": [
    "## Load datasets"
   ]
  },
  {
   "cell_type": "code",
   "execution_count": null,
   "metadata": {},
   "outputs": [],
   "source": [
    "# Load all the available regression datasets\n",
    "datasets = load_regression_datasets()"
   ]
  },
  {
   "cell_type": "markdown",
   "metadata": {},
   "source": [
    "## Define models and pipelines"
   ]
  },
  {
   "cell_type": "code",
   "execution_count": null,
   "metadata": {},
   "outputs": [],
   "source": [
    "# Benchmark pipelines\n",
    "pipeline_linear_rf = Pipeline([\n",
    "    ('feature_extraction', FeatureUnion([\n",
    "        ('pca', PCA(n_components=5)),\n",
    "        ('polynomial_features', PolynomialFeatures(degree=2)),\n",
    "    ])),\n",
    "    ('regressor', DecisionTreeRegressor())\n",
    "])\n",
    "\n",
    "# Add the modified pipeline and selected models to a dictionary dictionary\n",
    "models = {\n",
    "    \"Linear Regression\": LinearRegression(),\n",
    "    \"Random Forest Regressor\": DecisionTreeRegressor(),\n",
    "    \"Pipeline (Linear + Random Forest)\": pipeline_linear_rf\n",
    "}\n"
   ]
  },
  {
   "cell_type": "markdown",
   "metadata": {},
   "source": [
    "## Define Evaluation Metrics"
   ]
  },
  {
   "cell_type": "code",
   "execution_count": null,
   "metadata": {},
   "outputs": [],
   "source": [
    "metrics = ['neg_mean_absolute_error','explained_variance','neg_root_mean_squared_error'] # accepts scikit-learn metrics"
   ]
  },
  {
   "cell_type": "markdown",
   "metadata": {},
   "source": [
    "## Run experiment"
   ]
  },
  {
   "cell_type": "code",
   "execution_count": null,
   "metadata": {},
   "outputs": [],
   "source": [
    "output_json = 'regression_benchmarks.json'\n",
    "res = run_cross_dataset_benchmark_models(models, datasets, metrics, output_json, cv=5)"
   ]
  },
  {
   "cell_type": "markdown",
   "metadata": {},
   "source": [
    "## Print results"
   ]
  },
  {
   "cell_type": "code",
   "execution_count": null,
   "metadata": {},
   "outputs": [],
   "source": [
    "import numpy as np"
   ]
  },
  {
   "cell_type": "markdown",
   "metadata": {},
   "source": [
    "### Print in natural order "
   ]
  },
  {
   "cell_type": "code",
   "execution_count": null,
   "metadata": {},
   "outputs": [],
   "source": [
    "for model in res:\n",
    "    print(f'{model}')\n",
    "    for dataset in res[model]:\n",
    "        print(f'\\t{dataset}')\n",
    "        for metric in res[model][dataset]:\n",
    "            results = res[model][dataset][metric]\n",
    "            print(f'\\t\\t{metric}: {np.mean(results):.3f} +- {np.std(results):.3f}')"
   ]
  },
  {
   "cell_type": "markdown",
   "metadata": {},
   "source": [
    "### Compare results in each dataset"
   ]
  },
  {
   "cell_type": "code",
   "execution_count": null,
   "metadata": {},
   "outputs": [],
   "source": [
    "models = list(res.keys())\n",
    "models"
   ]
  },
  {
   "cell_type": "code",
   "execution_count": null,
   "metadata": {},
   "outputs": [],
   "source": [
    "models = list(res.keys())\n",
    "datasets = list(res[models[0]].keys())\n",
    "metrics = list(res[models[0]][datasets[0]].keys())\n",
    "\n",
    "print(models)\n",
    "print(datasets)\n",
    "print(metrics)\n",
    "\n",
    "for dataset in datasets:\n",
    "    print(f'{dataset}')\n",
    "    for metric in metrics[2:3]: # assesing neg_mean_absolute_error\n",
    "        print(f'\\t{metric}')\n",
    "        for model in models:\n",
    "            print(f'\\t\\t{model:>35}:\\t {np.mean(res[model][dataset][metric]):.3f} \\t +- {np.std(res[model][dataset][metric]):.3f}')"
   ]
  }
 ],
 "metadata": {
  "kernelspec": {
   "display_name": "Python 3",
   "language": "python",
   "name": "python3"
  },
  "language_info": {
   "codemirror_mode": {
    "name": "ipython",
    "version": 3
   },
   "file_extension": ".py",
   "mimetype": "text/x-python",
   "name": "python",
   "nbconvert_exporter": "python",
   "pygments_lexer": "ipython3",
   "version": "3.12.0"
  },
  "orig_nbformat": 4
 },
 "nbformat": 4,
 "nbformat_minor": 2
}
