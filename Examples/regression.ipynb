{
 "cells": [
  {
   "cell_type": "markdown",
   "metadata": {},
   "source": [
    "# Benchmarking regression models with MLBenchmarks"
   ]
  },
  {
   "cell_type": "markdown",
   "metadata": {},
   "source": [
    "## Installation"
   ]
  },
  {
   "cell_type": "code",
   "execution_count": 1,
   "metadata": {},
   "outputs": [
    {
     "name": "stdout",
     "output_type": "stream",
     "text": [
      "Collecting git+https://github.com/rcpsilva/MLBenchmarks@main\n",
      "  Cloning https://github.com/rcpsilva/MLBenchmarks (to revision main) to c:\\users\\rcpsi\\appdata\\local\\temp\\pip-req-build-60trcnex\n",
      "  Resolved https://github.com/rcpsilva/MLBenchmarks to commit e656ee15e423a823e12e35c46dfb88ea48d07bcf\n",
      "  Preparing metadata (setup.py): started\n",
      "  Preparing metadata (setup.py): finished with status 'done'\n",
      "Requirement already satisfied: psutil in c:\\users\\rcpsi\\appdata\\local\\programs\\python\\python311\\lib\\site-packages (from MLBenchmarks==0.1) (5.9.5)\n",
      "Requirement already satisfied: tqdm in c:\\users\\rcpsi\\appdata\\local\\programs\\python\\python311\\lib\\site-packages (from MLBenchmarks==0.1) (4.66.1)\n",
      "Requirement already satisfied: numpy in c:\\users\\rcpsi\\appdata\\local\\programs\\python\\python311\\lib\\site-packages (from MLBenchmarks==0.1) (1.25.2)\n",
      "Requirement already satisfied: scikit-learn in c:\\users\\rcpsi\\appdata\\local\\programs\\python\\python311\\lib\\site-packages (from MLBenchmarks==0.1) (1.3.0)\n",
      "Requirement already satisfied: pandas in c:\\users\\rcpsi\\appdata\\local\\programs\\python\\python311\\lib\\site-packages (from MLBenchmarks==0.1) (2.1.0)\n",
      "Requirement already satisfied: openpyxl in c:\\users\\rcpsi\\appdata\\local\\programs\\python\\python311\\lib\\site-packages (from MLBenchmarks==0.1) (3.1.2)\n",
      "Requirement already satisfied: setuptools in c:\\users\\rcpsi\\appdata\\local\\programs\\python\\python311\\lib\\site-packages (from MLBenchmarks==0.1) (65.5.0)\n",
      "Requirement already satisfied: et-xmlfile in c:\\users\\rcpsi\\appdata\\local\\programs\\python\\python311\\lib\\site-packages (from openpyxl->MLBenchmarks==0.1) (1.1.0)\n",
      "Requirement already satisfied: python-dateutil>=2.8.2 in c:\\users\\rcpsi\\appdata\\local\\programs\\python\\python311\\lib\\site-packages (from pandas->MLBenchmarks==0.1) (2.8.2)\n",
      "Requirement already satisfied: pytz>=2020.1 in c:\\users\\rcpsi\\appdata\\local\\programs\\python\\python311\\lib\\site-packages (from pandas->MLBenchmarks==0.1) (2022.7.1)\n",
      "Requirement already satisfied: tzdata>=2022.1 in c:\\users\\rcpsi\\appdata\\local\\programs\\python\\python311\\lib\\site-packages (from pandas->MLBenchmarks==0.1) (2023.3)\n",
      "Requirement already satisfied: scipy>=1.5.0 in c:\\users\\rcpsi\\appdata\\local\\programs\\python\\python311\\lib\\site-packages (from scikit-learn->MLBenchmarks==0.1) (1.10.0)\n",
      "Requirement already satisfied: joblib>=1.1.1 in c:\\users\\rcpsi\\appdata\\local\\programs\\python\\python311\\lib\\site-packages (from scikit-learn->MLBenchmarks==0.1) (1.2.0)\n",
      "Requirement already satisfied: threadpoolctl>=2.0.0 in c:\\users\\rcpsi\\appdata\\local\\programs\\python\\python311\\lib\\site-packages (from scikit-learn->MLBenchmarks==0.1) (3.1.0)\n",
      "Requirement already satisfied: colorama in c:\\users\\rcpsi\\appdata\\roaming\\python\\python311\\site-packages (from tqdm->MLBenchmarks==0.1) (0.4.6)\n",
      "Requirement already satisfied: six>=1.5 in c:\\users\\rcpsi\\appdata\\local\\programs\\python\\python311\\lib\\site-packages (from python-dateutil>=2.8.2->pandas->MLBenchmarks==0.1) (1.16.0)\n"
     ]
    },
    {
     "name": "stderr",
     "output_type": "stream",
     "text": [
      "  Running command git clone --filter=blob:none --quiet https://github.com/rcpsilva/MLBenchmarks 'C:\\Users\\rcpsi\\AppData\\Local\\Temp\\pip-req-build-60trcnex'\n"
     ]
    }
   ],
   "source": [
    "!pip uninstall -y MLBenchmarks && pip install git+https://github.com/rcpsilva/MLBenchmarks@main"
   ]
  },
  {
   "cell_type": "markdown",
   "metadata": {},
   "source": [
    "## Imports"
   ]
  },
  {
   "cell_type": "code",
   "execution_count": 2,
   "metadata": {},
   "outputs": [],
   "source": [
    "from sklearn.linear_model import LinearRegression\n",
    "from sklearn.tree import DecisionTreeRegressor\n",
    "from sklearn.pipeline import Pipeline, FeatureUnion\n",
    "from sklearn.decomposition import PCA\n",
    "from sklearn.preprocessing import PolynomialFeatures\n",
    "from MLBenchmarks.benchmarking_methods  import load_regression_datasets, run_cross_dataset_benchmark_models"
   ]
  },
  {
   "cell_type": "code",
   "execution_count": null,
   "metadata": {},
   "outputs": [],
   "source": []
  },
  {
   "cell_type": "markdown",
   "metadata": {},
   "source": [
    "## Load datasets"
   ]
  },
  {
   "cell_type": "code",
   "execution_count": 3,
   "metadata": {},
   "outputs": [
    {
     "name": "stdout",
     "output_type": "stream",
     "text": [
      "Running load_auto_mpg ...\n",
      "Running load_student_mat ...\n",
      "Running load_student_por ...\n",
      "Running load_wine_quality_red ...\n",
      "Running load_wine_quality_white ...\n"
     ]
    }
   ],
   "source": [
    "# Load all the available regression datasets\n",
    "datasets = load_regression_datasets()"
   ]
  },
  {
   "cell_type": "markdown",
   "metadata": {},
   "source": [
    "## Define models and pipelines"
   ]
  },
  {
   "cell_type": "code",
   "execution_count": 4,
   "metadata": {},
   "outputs": [],
   "source": [
    "# Benchmark pipelines\n",
    "pipeline_linear_rf = Pipeline([\n",
    "    ('feature_extraction', FeatureUnion([\n",
    "        ('pca', PCA(n_components=5)),\n",
    "        ('polynomial_features', PolynomialFeatures(degree=2)),\n",
    "    ])),\n",
    "    ('regressor', DecisionTreeRegressor())\n",
    "])\n",
    "\n",
    "# Add the modified pipeline and selected models to a dictionary dictionary\n",
    "models = {\n",
    "    \"Linear Regression\": LinearRegression(),\n",
    "    \"Random Forest Regressor\": DecisionTreeRegressor(),\n",
    "    \"Pipeline (Linear + Random Forest)\": pipeline_linear_rf\n",
    "}\n"
   ]
  },
  {
   "cell_type": "markdown",
   "metadata": {},
   "source": [
    "## Define Evaluation Metrics"
   ]
  },
  {
   "cell_type": "code",
   "execution_count": 5,
   "metadata": {},
   "outputs": [],
   "source": [
    "metrics = ['neg_mean_absolute_error','explained_variance','neg_root_mean_squared_error'] # accepts scikit-learn metrics"
   ]
  },
  {
   "cell_type": "markdown",
   "metadata": {},
   "source": [
    "## Run experiment"
   ]
  },
  {
   "cell_type": "code",
   "execution_count": 6,
   "metadata": {},
   "outputs": [
    {
     "name": "stderr",
     "output_type": "stream",
     "text": [
      "100%|██████████| 5/5 [00:00<00:00, 25.80it/s]\n",
      "100%|██████████| 5/5 [00:00<00:00,  7.60it/s]\n",
      "100%|██████████| 5/5 [00:07<00:00,  1.46s/it]\n",
      "100%|██████████| 3/3 [00:08<00:00,  2.72s/it]\n"
     ]
    }
   ],
   "source": [
    "output_json = 'regression_benchmarks.json'\n",
    "res = run_cross_dataset_benchmark_models(models, datasets, metrics, output_json, cv=5)"
   ]
  },
  {
   "cell_type": "markdown",
   "metadata": {},
   "source": [
    "## Print results"
   ]
  },
  {
   "cell_type": "code",
   "execution_count": 13,
   "metadata": {},
   "outputs": [],
   "source": [
    "import numpy as np"
   ]
  },
  {
   "cell_type": "markdown",
   "metadata": {},
   "source": [
    "### Print in natural order "
   ]
  },
  {
   "cell_type": "code",
   "execution_count": null,
   "metadata": {},
   "outputs": [],
   "source": [
    "for model in res:\n",
    "    print(f'{model}')\n",
    "    for dataset in res[model]:\n",
    "        print(f'\\t{dataset}')\n",
    "        for metric in res[model][dataset]:\n",
    "            results = res[model][dataset][metric]\n",
    "            print(f'\\t\\t{metric}: {np.mean(results):.3f} +- {np.std(results):.3f}')"
   ]
  },
  {
   "cell_type": "markdown",
   "metadata": {},
   "source": [
    "### Compare results in each dataset"
   ]
  },
  {
   "cell_type": "code",
   "execution_count": 17,
   "metadata": {},
   "outputs": [
    {
     "data": {
      "text/plain": [
       "['Linear Regression',\n",
       " 'Random Forest Regressor',\n",
       " 'Pipeline (Linear + Random Forest)']"
      ]
     },
     "execution_count": 17,
     "metadata": {},
     "output_type": "execute_result"
    }
   ],
   "source": [
    "models = list(res.keys())\n",
    "models"
   ]
  },
  {
   "cell_type": "code",
   "execution_count": 37,
   "metadata": {},
   "outputs": [
    {
     "name": "stdout",
     "output_type": "stream",
     "text": [
      "['Linear Regression', 'Random Forest Regressor', 'Pipeline (Linear + Random Forest)']\n",
      "['load_auto_mpg', 'load_student_mat', 'load_student_por', 'load_wine_quality_red', 'load_wine_quality_white']\n",
      "['fit_time', 'score_time', 'test_neg_mean_absolute_error', 'test_explained_variance', 'test_neg_root_mean_squared_error', 'memory_usage(MB)']\n",
      "load_auto_mpg\n",
      "\ttest_neg_mean_absolute_error\n",
      "\t\t                  Linear Regression:\t -2.988 \t +- 0.706\n",
      "\t\t            Random Forest Regressor:\t -2.880 \t +- 0.907\n",
      "\t\t  Pipeline (Linear + Random Forest):\t -2.647 \t +- 1.070\n",
      "load_student_mat\n",
      "\ttest_neg_mean_absolute_error\n",
      "\t\t                  Linear Regression:\t -3.418 \t +- 0.513\n",
      "\t\t            Random Forest Regressor:\t -4.380 \t +- 0.359\n",
      "\t\t  Pipeline (Linear + Random Forest):\t -4.815 \t +- 0.641\n",
      "load_student_por\n",
      "\ttest_neg_mean_absolute_error\n",
      "\t\t                  Linear Regression:\t -2.055 \t +- 0.431\n",
      "\t\t            Random Forest Regressor:\t -3.006 \t +- 0.474\n",
      "\t\t  Pipeline (Linear + Random Forest):\t -2.742 \t +- 0.454\n",
      "load_wine_quality_red\n",
      "\ttest_neg_mean_absolute_error\n",
      "\t\t                  Linear Regression:\t -0.510 \t +- 0.012\n",
      "\t\t            Random Forest Regressor:\t -0.616 \t +- 0.025\n",
      "\t\t  Pipeline (Linear + Random Forest):\t -0.632 \t +- 0.035\n",
      "load_wine_quality_white\n",
      "\ttest_neg_mean_absolute_error\n",
      "\t\t                  Linear Regression:\t -0.594 \t +- 0.033\n",
      "\t\t            Random Forest Regressor:\t -0.747 \t +- 0.045\n",
      "\t\t  Pipeline (Linear + Random Forest):\t -0.757 \t +- 0.019\n"
     ]
    }
   ],
   "source": [
    "models = list(res.keys())\n",
    "datasets = list(res[models[0]].keys())\n",
    "metrics = list(res[models[0]][datasets[0]].keys())\n",
    "\n",
    "print(models)\n",
    "print(datasets)\n",
    "print(metrics)\n",
    "\n",
    "for dataset in datasets:\n",
    "    print(f'{dataset}')\n",
    "    for metric in metrics[2:3]: # assesing neg_mean_absolute_error\n",
    "        print(f'\\t{metric}')\n",
    "        for model in models:\n",
    "            print(f'\\t\\t{model:>35}:\\t {np.mean(res[model][dataset][metric]):.3f} \\t +- {np.std(res[model][dataset][metric]):.3f}')"
   ]
  }
 ],
 "metadata": {
  "kernelspec": {
   "display_name": "Python 3",
   "language": "python",
   "name": "python3"
  },
  "language_info": {
   "codemirror_mode": {
    "name": "ipython",
    "version": 3
   },
   "file_extension": ".py",
   "mimetype": "text/x-python",
   "name": "python",
   "nbconvert_exporter": "python",
   "pygments_lexer": "ipython3",
   "version": "3.11.1"
  },
  "orig_nbformat": 4
 },
 "nbformat": 4,
 "nbformat_minor": 2
}
