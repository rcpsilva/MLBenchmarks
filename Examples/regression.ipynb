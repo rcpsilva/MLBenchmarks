{
 "cells": [
  {
   "cell_type": "markdown",
   "metadata": {},
   "source": [
    "# Benchmarking regression models with MLBenchmarks"
   ]
  },
  {
   "cell_type": "markdown",
   "metadata": {},
   "source": [
    "## Installation"
   ]
  },
  {
   "cell_type": "code",
   "execution_count": 1,
   "metadata": {},
   "outputs": [
    {
     "name": "stdout",
     "output_type": "stream",
     "text": [
      "Found existing installation: MLBenchmarks 0.1\n",
      "Uninstalling MLBenchmarks-0.1:\n",
      "  Successfully uninstalled MLBenchmarks-0.1\n",
      "Collecting git+https://github.com/rcpsilva/MLBenchmarks@main\n",
      "  Cloning https://github.com/rcpsilva/MLBenchmarks (to revision main) to c:\\users\\rcpsi\\appdata\\local\\temp\\pip-req-build-5jb9xpqv\n",
      "  Resolved https://github.com/rcpsilva/MLBenchmarks to commit f0970ed3c24a79f3e8ea49f8efc4e0f853f84bb8\n",
      "  Installing build dependencies: started\n",
      "  Installing build dependencies: finished with status 'done'\n",
      "  Getting requirements to build wheel: started\n",
      "  Getting requirements to build wheel: finished with status 'done'\n",
      "  Preparing metadata (pyproject.toml): started\n",
      "  Preparing metadata (pyproject.toml): finished with status 'done'\n",
      "Requirement already satisfied: psutil in c:\\users\\rcpsi\\appdata\\roaming\\python\\python312\\site-packages (from MLBenchmarks==0.1) (5.9.6)\n",
      "Requirement already satisfied: tqdm in c:\\users\\rcpsi\\appdata\\local\\programs\\python\\python312\\lib\\site-packages (from MLBenchmarks==0.1) (4.66.1)\n",
      "Requirement already satisfied: numpy in c:\\users\\rcpsi\\appdata\\local\\programs\\python\\python312\\lib\\site-packages (from MLBenchmarks==0.1) (1.26.1)\n",
      "Requirement already satisfied: scikit-learn in c:\\users\\rcpsi\\appdata\\local\\programs\\python\\python312\\lib\\site-packages (from MLBenchmarks==0.1) (1.3.2)\n",
      "Requirement already satisfied: pandas in c:\\users\\rcpsi\\appdata\\local\\programs\\python\\python312\\lib\\site-packages (from MLBenchmarks==0.1) (2.1.2)\n",
      "Requirement already satisfied: openpyxl in c:\\users\\rcpsi\\appdata\\local\\programs\\python\\python312\\lib\\site-packages (from MLBenchmarks==0.1) (3.1.2)\n",
      "Requirement already satisfied: setuptools in c:\\users\\rcpsi\\appdata\\local\\programs\\python\\python312\\lib\\site-packages (from MLBenchmarks==0.1) (68.2.2)\n",
      "Requirement already satisfied: xlrd in c:\\users\\rcpsi\\appdata\\local\\programs\\python\\python312\\lib\\site-packages (from MLBenchmarks==0.1) (2.0.1)\n",
      "Requirement already satisfied: ucimlrepo in c:\\users\\rcpsi\\appdata\\local\\programs\\python\\python312\\lib\\site-packages (from MLBenchmarks==0.1) (0.0.3)\n",
      "Requirement already satisfied: et-xmlfile in c:\\users\\rcpsi\\appdata\\local\\programs\\python\\python312\\lib\\site-packages (from openpyxl->MLBenchmarks==0.1) (1.1.0)\n",
      "Requirement already satisfied: python-dateutil>=2.8.2 in c:\\users\\rcpsi\\appdata\\roaming\\python\\python312\\site-packages (from pandas->MLBenchmarks==0.1) (2.8.2)\n",
      "Requirement already satisfied: pytz>=2020.1 in c:\\users\\rcpsi\\appdata\\local\\programs\\python\\python312\\lib\\site-packages (from pandas->MLBenchmarks==0.1) (2023.3.post1)\n",
      "Requirement already satisfied: tzdata>=2022.1 in c:\\users\\rcpsi\\appdata\\local\\programs\\python\\python312\\lib\\site-packages (from pandas->MLBenchmarks==0.1) (2023.3)\n",
      "Requirement already satisfied: scipy>=1.5.0 in c:\\users\\rcpsi\\appdata\\local\\programs\\python\\python312\\lib\\site-packages (from scikit-learn->MLBenchmarks==0.1) (1.11.3)\n",
      "Requirement already satisfied: joblib>=1.1.1 in c:\\users\\rcpsi\\appdata\\local\\programs\\python\\python312\\lib\\site-packages (from scikit-learn->MLBenchmarks==0.1) (1.3.2)\n",
      "Requirement already satisfied: threadpoolctl>=2.0.0 in c:\\users\\rcpsi\\appdata\\local\\programs\\python\\python312\\lib\\site-packages (from scikit-learn->MLBenchmarks==0.1) (3.2.0)\n",
      "Requirement already satisfied: colorama in c:\\users\\rcpsi\\appdata\\roaming\\python\\python312\\site-packages (from tqdm->MLBenchmarks==0.1) (0.4.6)\n",
      "Requirement already satisfied: six>=1.5 in c:\\users\\rcpsi\\appdata\\roaming\\python\\python312\\site-packages (from python-dateutil>=2.8.2->pandas->MLBenchmarks==0.1) (1.16.0)\n",
      "Building wheels for collected packages: MLBenchmarks\n",
      "  Building wheel for MLBenchmarks (pyproject.toml): started\n",
      "  Building wheel for MLBenchmarks (pyproject.toml): finished with status 'done'\n",
      "  Created wheel for MLBenchmarks: filename=MLBenchmarks-0.1-py3-none-any.whl size=18595 sha256=97fae7c8c23c23ffd74d11068419678e4d1a56ac373465aacef9ae018a608ba2\n",
      "  Stored in directory: C:\\Users\\rcpsi\\AppData\\Local\\Temp\\pip-ephem-wheel-cache-c4qyby1u\\wheels\\95\\2e\\2f\\f18ba9608b3638fe5fb531bf19cae229451207cca1e2ba1b94\n",
      "Successfully built MLBenchmarks\n",
      "Installing collected packages: MLBenchmarks\n",
      "Successfully installed MLBenchmarks-0.1\n"
     ]
    },
    {
     "name": "stderr",
     "output_type": "stream",
     "text": [
      "  Running command git clone --filter=blob:none --quiet https://github.com/rcpsilva/MLBenchmarks 'C:\\Users\\rcpsi\\AppData\\Local\\Temp\\pip-req-build-5jb9xpqv'\n"
     ]
    }
   ],
   "source": [
    "!pip uninstall -y MLBenchmarks && pip install git+https://github.com/rcpsilva/MLBenchmarks@main"
   ]
  },
  {
   "cell_type": "markdown",
   "metadata": {},
   "source": [
    "## Imports"
   ]
  },
  {
   "cell_type": "code",
   "execution_count": 2,
   "metadata": {},
   "outputs": [],
   "source": [
    "from sklearn.linear_model import LinearRegression\n",
    "from sklearn.tree import DecisionTreeRegressor\n",
    "from sklearn.pipeline import Pipeline, FeatureUnion\n",
    "from sklearn.decomposition import PCA\n",
    "from sklearn.preprocessing import PolynomialFeatures\n",
    "from MLBenchmarks.benchmarking_methods  import load_regression_datasets, run_cross_dataset_benchmark_models\n",
    "from MLBenchmarks.benchmarking_methods import count_datasets"
   ]
  },
  {
   "cell_type": "code",
   "execution_count": 3,
   "metadata": {},
   "outputs": [
    {
     "name": "stdout",
     "output_type": "stream",
     "text": [
      "27 regression datasets\n"
     ]
    },
    {
     "ename": "AttributeError",
     "evalue": "module 'MLBenchmarks.classification_datasets_loaders' has no attribute 'load_auto_mpg'",
     "output_type": "error",
     "traceback": [
      "\u001b[1;31m---------------------------------------------------------------------------\u001b[0m",
      "\u001b[1;31mAttributeError\u001b[0m                            Traceback (most recent call last)",
      "\u001b[1;32mc:\\Users\\rcpsi\\source\\repos\\MLBenchmarks\\Examples\\regression.ipynb Cell 6\u001b[0m line \u001b[0;36m1\n\u001b[1;32m----> <a href='vscode-notebook-cell:/c%3A/Users/rcpsi/source/repos/MLBenchmarks/Examples/regression.ipynb#W5sZmlsZQ%3D%3D?line=0'>1</a>\u001b[0m count_datasets()\n",
      "File \u001b[1;32mc:\\Users\\rcpsi\\AppData\\Local\\Programs\\Python\\Python312\\Lib\\site-packages\\MLBenchmarks\\benchmarking_methods.py:27\u001b[0m, in \u001b[0;36mcount_datasets\u001b[1;34m()\u001b[0m\n\u001b[0;32m     23\u001b[0m         count \u001b[39m+\u001b[39m\u001b[39m=\u001b[39m \u001b[39m1\u001b[39m\n\u001b[0;32m     25\u001b[0m \u001b[39mprint\u001b[39m(\u001b[39mf\u001b[39m\u001b[39m'\u001b[39m\u001b[39m{\u001b[39;00mcount\u001b[39m}\u001b[39;00m\u001b[39m regression datasets\u001b[39m\u001b[39m'\u001b[39m)\n\u001b[1;32m---> 27\u001b[0m methods \u001b[39m=\u001b[39m [attr \u001b[39mfor\u001b[39;00m attr \u001b[39min\u001b[39;00m module_attributes \u001b[39mif\u001b[39;00m \u001b[39mcallable\u001b[39m(\u001b[39mgetattr\u001b[39;49m(classification_datasets_loaders, attr))]\n\u001b[0;32m     29\u001b[0m count \u001b[39m=\u001b[39m \u001b[39m0\u001b[39m\n\u001b[0;32m     30\u001b[0m \u001b[39m# Call each method in the module\u001b[39;00m\n",
      "\u001b[1;31mAttributeError\u001b[0m: module 'MLBenchmarks.classification_datasets_loaders' has no attribute 'load_auto_mpg'"
     ]
    }
   ],
   "source": [
    "count_datasets()"
   ]
  },
  {
   "cell_type": "markdown",
   "metadata": {},
   "source": [
    "## Load datasets"
   ]
  },
  {
   "cell_type": "code",
   "execution_count": 3,
   "metadata": {},
   "outputs": [
    {
     "name": "stdout",
     "output_type": "stream",
     "text": [
      "Running load_auto_mpg ...\n",
      "Running load_student_mat ...\n",
      "Running load_student_por ...\n",
      "Running load_wine_quality_red ...\n",
      "Running load_wine_quality_white ...\n"
     ]
    }
   ],
   "source": [
    "# Load all the available regression datasets\n",
    "datasets = load_regression_datasets()"
   ]
  },
  {
   "cell_type": "markdown",
   "metadata": {},
   "source": [
    "## Define models and pipelines"
   ]
  },
  {
   "cell_type": "code",
   "execution_count": 4,
   "metadata": {},
   "outputs": [],
   "source": [
    "# Benchmark pipelines\n",
    "pipeline_linear_rf = Pipeline([\n",
    "    ('feature_extraction', FeatureUnion([\n",
    "        ('pca', PCA(n_components=5)),\n",
    "        ('polynomial_features', PolynomialFeatures(degree=2)),\n",
    "    ])),\n",
    "    ('regressor', DecisionTreeRegressor())\n",
    "])\n",
    "\n",
    "# Add the modified pipeline and selected models to a dictionary dictionary\n",
    "models = {\n",
    "    \"Linear Regression\": LinearRegression(),\n",
    "    \"Random Forest Regressor\": DecisionTreeRegressor(),\n",
    "    \"Pipeline (Linear + Random Forest)\": pipeline_linear_rf\n",
    "}\n"
   ]
  },
  {
   "cell_type": "markdown",
   "metadata": {},
   "source": [
    "## Define Evaluation Metrics"
   ]
  },
  {
   "cell_type": "code",
   "execution_count": 5,
   "metadata": {},
   "outputs": [],
   "source": [
    "metrics = ['neg_mean_absolute_error','explained_variance','neg_root_mean_squared_error'] # accepts scikit-learn metrics"
   ]
  },
  {
   "cell_type": "markdown",
   "metadata": {},
   "source": [
    "## Run experiment"
   ]
  },
  {
   "cell_type": "code",
   "execution_count": 6,
   "metadata": {},
   "outputs": [
    {
     "name": "stderr",
     "output_type": "stream",
     "text": [
      "100%|██████████| 5/5 [00:00<00:00, 25.80it/s]\n",
      "100%|██████████| 5/5 [00:00<00:00,  7.60it/s]\n",
      "100%|██████████| 5/5 [00:07<00:00,  1.46s/it]\n",
      "100%|██████████| 3/3 [00:08<00:00,  2.72s/it]\n"
     ]
    }
   ],
   "source": [
    "output_json = 'regression_benchmarks.json'\n",
    "res = run_cross_dataset_benchmark_models(models, datasets, metrics, output_json, cv=5)"
   ]
  },
  {
   "cell_type": "markdown",
   "metadata": {},
   "source": [
    "## Print results"
   ]
  },
  {
   "cell_type": "code",
   "execution_count": 13,
   "metadata": {},
   "outputs": [],
   "source": [
    "import numpy as np"
   ]
  },
  {
   "cell_type": "markdown",
   "metadata": {},
   "source": [
    "### Print in natural order "
   ]
  },
  {
   "cell_type": "code",
   "execution_count": null,
   "metadata": {},
   "outputs": [],
   "source": [
    "for model in res:\n",
    "    print(f'{model}')\n",
    "    for dataset in res[model]:\n",
    "        print(f'\\t{dataset}')\n",
    "        for metric in res[model][dataset]:\n",
    "            results = res[model][dataset][metric]\n",
    "            print(f'\\t\\t{metric}: {np.mean(results):.3f} +- {np.std(results):.3f}')"
   ]
  },
  {
   "cell_type": "markdown",
   "metadata": {},
   "source": [
    "### Compare results in each dataset"
   ]
  },
  {
   "cell_type": "code",
   "execution_count": 17,
   "metadata": {},
   "outputs": [
    {
     "data": {
      "text/plain": [
       "['Linear Regression',\n",
       " 'Random Forest Regressor',\n",
       " 'Pipeline (Linear + Random Forest)']"
      ]
     },
     "execution_count": 17,
     "metadata": {},
     "output_type": "execute_result"
    }
   ],
   "source": [
    "models = list(res.keys())\n",
    "models"
   ]
  },
  {
   "cell_type": "code",
   "execution_count": 37,
   "metadata": {},
   "outputs": [
    {
     "name": "stdout",
     "output_type": "stream",
     "text": [
      "['Linear Regression', 'Random Forest Regressor', 'Pipeline (Linear + Random Forest)']\n",
      "['load_auto_mpg', 'load_student_mat', 'load_student_por', 'load_wine_quality_red', 'load_wine_quality_white']\n",
      "['fit_time', 'score_time', 'test_neg_mean_absolute_error', 'test_explained_variance', 'test_neg_root_mean_squared_error', 'memory_usage(MB)']\n",
      "load_auto_mpg\n",
      "\ttest_neg_mean_absolute_error\n",
      "\t\t                  Linear Regression:\t -2.988 \t +- 0.706\n",
      "\t\t            Random Forest Regressor:\t -2.880 \t +- 0.907\n",
      "\t\t  Pipeline (Linear + Random Forest):\t -2.647 \t +- 1.070\n",
      "load_student_mat\n",
      "\ttest_neg_mean_absolute_error\n",
      "\t\t                  Linear Regression:\t -3.418 \t +- 0.513\n",
      "\t\t            Random Forest Regressor:\t -4.380 \t +- 0.359\n",
      "\t\t  Pipeline (Linear + Random Forest):\t -4.815 \t +- 0.641\n",
      "load_student_por\n",
      "\ttest_neg_mean_absolute_error\n",
      "\t\t                  Linear Regression:\t -2.055 \t +- 0.431\n",
      "\t\t            Random Forest Regressor:\t -3.006 \t +- 0.474\n",
      "\t\t  Pipeline (Linear + Random Forest):\t -2.742 \t +- 0.454\n",
      "load_wine_quality_red\n",
      "\ttest_neg_mean_absolute_error\n",
      "\t\t                  Linear Regression:\t -0.510 \t +- 0.012\n",
      "\t\t            Random Forest Regressor:\t -0.616 \t +- 0.025\n",
      "\t\t  Pipeline (Linear + Random Forest):\t -0.632 \t +- 0.035\n",
      "load_wine_quality_white\n",
      "\ttest_neg_mean_absolute_error\n",
      "\t\t                  Linear Regression:\t -0.594 \t +- 0.033\n",
      "\t\t            Random Forest Regressor:\t -0.747 \t +- 0.045\n",
      "\t\t  Pipeline (Linear + Random Forest):\t -0.757 \t +- 0.019\n"
     ]
    }
   ],
   "source": [
    "models = list(res.keys())\n",
    "datasets = list(res[models[0]].keys())\n",
    "metrics = list(res[models[0]][datasets[0]].keys())\n",
    "\n",
    "print(models)\n",
    "print(datasets)\n",
    "print(metrics)\n",
    "\n",
    "for dataset in datasets:\n",
    "    print(f'{dataset}')\n",
    "    for metric in metrics[2:3]: # assesing neg_mean_absolute_error\n",
    "        print(f'\\t{metric}')\n",
    "        for model in models:\n",
    "            print(f'\\t\\t{model:>35}:\\t {np.mean(res[model][dataset][metric]):.3f} \\t +- {np.std(res[model][dataset][metric]):.3f}')"
   ]
  }
 ],
 "metadata": {
  "kernelspec": {
   "display_name": "Python 3",
   "language": "python",
   "name": "python3"
  },
  "language_info": {
   "codemirror_mode": {
    "name": "ipython",
    "version": 3
   },
   "file_extension": ".py",
   "mimetype": "text/x-python",
   "name": "python",
   "nbconvert_exporter": "python",
   "pygments_lexer": "ipython3",
   "version": "3.12.0"
  },
  "orig_nbformat": 4
 },
 "nbformat": 4,
 "nbformat_minor": 2
}
