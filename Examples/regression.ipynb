{
 "cells": [
  {
   "cell_type": "markdown",
   "metadata": {},
   "source": [
    "# Benchmarking regression models with MLBenchmarks"
   ]
  },
  {
   "cell_type": "markdown",
   "metadata": {},
   "source": [
    "## Installation"
   ]
  },
  {
   "cell_type": "code",
   "execution_count": 1,
   "metadata": {},
   "outputs": [
    {
     "name": "stdout",
     "output_type": "stream",
     "text": [
      "Found existing installation: MLBenchmarks 0.1\n",
      "Uninstalling MLBenchmarks-0.1:\n",
      "  Successfully uninstalled MLBenchmarks-0.1\n",
      "Collecting git+https://github.com/rcpsilva/MLBenchmarks@main\n",
      "  Cloning https://github.com/rcpsilva/MLBenchmarks (to revision main) to c:\\users\\rcpsi\\appdata\\local\\temp\\pip-req-build-8k525cle\n",
      "  Resolved https://github.com/rcpsilva/MLBenchmarks to commit 700e8d25941d56b3bb96eddac266a67b33a73f4f\n",
      "  Installing build dependencies: started\n",
      "  Installing build dependencies: finished with status 'done'\n",
      "  Getting requirements to build wheel: started\n",
      "  Getting requirements to build wheel: finished with status 'done'\n",
      "  Preparing metadata (pyproject.toml): started\n",
      "  Preparing metadata (pyproject.toml): finished with status 'done'\n",
      "Requirement already satisfied: psutil in c:\\users\\rcpsi\\appdata\\roaming\\python\\python312\\site-packages (from MLBenchmarks==0.1) (5.9.6)\n",
      "Requirement already satisfied: tqdm in c:\\users\\rcpsi\\appdata\\local\\programs\\python\\python312\\lib\\site-packages (from MLBenchmarks==0.1) (4.66.1)\n",
      "Requirement already satisfied: numpy in c:\\users\\rcpsi\\appdata\\local\\programs\\python\\python312\\lib\\site-packages (from MLBenchmarks==0.1) (1.26.1)\n",
      "Requirement already satisfied: scikit-learn in c:\\users\\rcpsi\\appdata\\local\\programs\\python\\python312\\lib\\site-packages (from MLBenchmarks==0.1) (1.3.2)\n",
      "Requirement already satisfied: pandas in c:\\users\\rcpsi\\appdata\\local\\programs\\python\\python312\\lib\\site-packages (from MLBenchmarks==0.1) (2.1.2)\n",
      "Requirement already satisfied: openpyxl in c:\\users\\rcpsi\\appdata\\local\\programs\\python\\python312\\lib\\site-packages (from MLBenchmarks==0.1) (3.1.2)\n",
      "Requirement already satisfied: setuptools in c:\\users\\rcpsi\\appdata\\local\\programs\\python\\python312\\lib\\site-packages (from MLBenchmarks==0.1) (68.2.2)\n",
      "Requirement already satisfied: xlrd in c:\\users\\rcpsi\\appdata\\local\\programs\\python\\python312\\lib\\site-packages (from MLBenchmarks==0.1) (2.0.1)\n",
      "Requirement already satisfied: ucimlrepo in c:\\users\\rcpsi\\appdata\\local\\programs\\python\\python312\\lib\\site-packages (from MLBenchmarks==0.1) (0.0.3)\n",
      "Requirement already satisfied: et-xmlfile in c:\\users\\rcpsi\\appdata\\local\\programs\\python\\python312\\lib\\site-packages (from openpyxl->MLBenchmarks==0.1) (1.1.0)\n",
      "Requirement already satisfied: python-dateutil>=2.8.2 in c:\\users\\rcpsi\\appdata\\roaming\\python\\python312\\site-packages (from pandas->MLBenchmarks==0.1) (2.8.2)\n",
      "Requirement already satisfied: pytz>=2020.1 in c:\\users\\rcpsi\\appdata\\local\\programs\\python\\python312\\lib\\site-packages (from pandas->MLBenchmarks==0.1) (2023.3.post1)\n",
      "Requirement already satisfied: tzdata>=2022.1 in c:\\users\\rcpsi\\appdata\\local\\programs\\python\\python312\\lib\\site-packages (from pandas->MLBenchmarks==0.1) (2023.3)\n",
      "Requirement already satisfied: scipy>=1.5.0 in c:\\users\\rcpsi\\appdata\\local\\programs\\python\\python312\\lib\\site-packages (from scikit-learn->MLBenchmarks==0.1) (1.11.3)\n",
      "Requirement already satisfied: joblib>=1.1.1 in c:\\users\\rcpsi\\appdata\\local\\programs\\python\\python312\\lib\\site-packages (from scikit-learn->MLBenchmarks==0.1) (1.3.2)\n",
      "Requirement already satisfied: threadpoolctl>=2.0.0 in c:\\users\\rcpsi\\appdata\\local\\programs\\python\\python312\\lib\\site-packages (from scikit-learn->MLBenchmarks==0.1) (3.2.0)\n",
      "Requirement already satisfied: colorama in c:\\users\\rcpsi\\appdata\\roaming\\python\\python312\\site-packages (from tqdm->MLBenchmarks==0.1) (0.4.6)\n",
      "Requirement already satisfied: six>=1.5 in c:\\users\\rcpsi\\appdata\\roaming\\python\\python312\\site-packages (from python-dateutil>=2.8.2->pandas->MLBenchmarks==0.1) (1.16.0)\n",
      "Building wheels for collected packages: MLBenchmarks\n",
      "  Building wheel for MLBenchmarks (pyproject.toml): started\n",
      "  Building wheel for MLBenchmarks (pyproject.toml): finished with status 'done'\n",
      "  Created wheel for MLBenchmarks: filename=MLBenchmarks-0.1-py3-none-any.whl size=18602 sha256=0658e76e274af1bda8f184874374d0bfc54ab7fbf81adafc7eca48f92b380a47\n",
      "  Stored in directory: C:\\Users\\rcpsi\\AppData\\Local\\Temp\\pip-ephem-wheel-cache-tmx5ncea\\wheels\\95\\2e\\2f\\f18ba9608b3638fe5fb531bf19cae229451207cca1e2ba1b94\n",
      "Successfully built MLBenchmarks\n",
      "Installing collected packages: MLBenchmarks\n",
      "Successfully installed MLBenchmarks-0.1\n"
     ]
    },
    {
     "name": "stderr",
     "output_type": "stream",
     "text": [
      "  Running command git clone --filter=blob:none --quiet https://github.com/rcpsilva/MLBenchmarks 'C:\\Users\\rcpsi\\AppData\\Local\\Temp\\pip-req-build-8k525cle'\n"
     ]
    }
   ],
   "source": [
    "!pip uninstall -y MLBenchmarks && pip install git+https://github.com/rcpsilva/MLBenchmarks@main"
   ]
  },
  {
   "cell_type": "markdown",
   "metadata": {},
   "source": [
    "## Imports"
   ]
  },
  {
   "cell_type": "code",
   "execution_count": 2,
   "metadata": {},
   "outputs": [],
   "source": [
    "from sklearn.linear_model import LinearRegression\n",
    "from sklearn.tree import DecisionTreeRegressor\n",
    "from sklearn.pipeline import Pipeline, FeatureUnion\n",
    "from sklearn.decomposition import PCA\n",
    "from sklearn.preprocessing import PolynomialFeatures\n",
    "from MLBenchmarks.benchmarking_methods  import load_regression_datasets, run_cross_dataset_benchmark_models\n",
    "from MLBenchmarks.benchmarking_methods import count_datasets"
   ]
  },
  {
   "cell_type": "code",
   "execution_count": 3,
   "metadata": {},
   "outputs": [
    {
     "name": "stdout",
     "output_type": "stream",
     "text": [
      "27 regression datasets\n",
      "10 classification datasets\n"
     ]
    }
   ],
   "source": [
    "count_datasets()"
   ]
  },
  {
   "cell_type": "markdown",
   "metadata": {},
   "source": [
    "## Load datasets"
   ]
  },
  {
   "cell_type": "code",
   "execution_count": null,
   "metadata": {},
   "outputs": [],
   "source": [
    "# Load all the available regression datasets\n",
    "datasets = load_regression_datasets()"
   ]
  },
  {
   "cell_type": "markdown",
   "metadata": {},
   "source": [
    "## Define models and pipelines"
   ]
  },
  {
   "cell_type": "code",
   "execution_count": null,
   "metadata": {},
   "outputs": [],
   "source": [
    "# Benchmark pipelines\n",
    "pipeline_linear_rf = Pipeline([\n",
    "    ('feature_extraction', FeatureUnion([\n",
    "        ('pca', PCA(n_components=5)),\n",
    "        ('polynomial_features', PolynomialFeatures(degree=2)),\n",
    "    ])),\n",
    "    ('regressor', DecisionTreeRegressor())\n",
    "])\n",
    "\n",
    "# Add the modified pipeline and selected models to a dictionary dictionary\n",
    "models = {\n",
    "    \"Linear Regression\": LinearRegression(),\n",
    "    \"Random Forest Regressor\": DecisionTreeRegressor(),\n",
    "    \"Pipeline (Linear + Random Forest)\": pipeline_linear_rf\n",
    "}\n"
   ]
  },
  {
   "cell_type": "markdown",
   "metadata": {},
   "source": [
    "## Define Evaluation Metrics"
   ]
  },
  {
   "cell_type": "code",
   "execution_count": null,
   "metadata": {},
   "outputs": [],
   "source": [
    "metrics = ['neg_mean_absolute_error','explained_variance','neg_root_mean_squared_error'] # accepts scikit-learn metrics"
   ]
  },
  {
   "cell_type": "markdown",
   "metadata": {},
   "source": [
    "## Run experiment"
   ]
  },
  {
   "cell_type": "code",
   "execution_count": null,
   "metadata": {},
   "outputs": [],
   "source": [
    "output_json = 'regression_benchmarks.json'\n",
    "res = run_cross_dataset_benchmark_models(models, datasets, metrics, output_json, cv=5)"
   ]
  },
  {
   "cell_type": "markdown",
   "metadata": {},
   "source": [
    "## Print results"
   ]
  },
  {
   "cell_type": "code",
   "execution_count": null,
   "metadata": {},
   "outputs": [],
   "source": [
    "import numpy as np"
   ]
  },
  {
   "cell_type": "markdown",
   "metadata": {},
   "source": [
    "### Print in natural order "
   ]
  },
  {
   "cell_type": "code",
   "execution_count": null,
   "metadata": {},
   "outputs": [],
   "source": [
    "for model in res:\n",
    "    print(f'{model}')\n",
    "    for dataset in res[model]:\n",
    "        print(f'\\t{dataset}')\n",
    "        for metric in res[model][dataset]:\n",
    "            results = res[model][dataset][metric]\n",
    "            print(f'\\t\\t{metric}: {np.mean(results):.3f} +- {np.std(results):.3f}')"
   ]
  },
  {
   "cell_type": "markdown",
   "metadata": {},
   "source": [
    "### Compare results in each dataset"
   ]
  },
  {
   "cell_type": "code",
   "execution_count": null,
   "metadata": {},
   "outputs": [],
   "source": [
    "models = list(res.keys())\n",
    "models"
   ]
  },
  {
   "cell_type": "code",
   "execution_count": null,
   "metadata": {},
   "outputs": [],
   "source": [
    "models = list(res.keys())\n",
    "datasets = list(res[models[0]].keys())\n",
    "metrics = list(res[models[0]][datasets[0]].keys())\n",
    "\n",
    "print(models)\n",
    "print(datasets)\n",
    "print(metrics)\n",
    "\n",
    "for dataset in datasets:\n",
    "    print(f'{dataset}')\n",
    "    for metric in metrics[2:3]: # assesing neg_mean_absolute_error\n",
    "        print(f'\\t{metric}')\n",
    "        for model in models:\n",
    "            print(f'\\t\\t{model:>35}:\\t {np.mean(res[model][dataset][metric]):.3f} \\t +- {np.std(res[model][dataset][metric]):.3f}')"
   ]
  }
 ],
 "metadata": {
  "kernelspec": {
   "display_name": "Python 3",
   "language": "python",
   "name": "python3"
  },
  "language_info": {
   "codemirror_mode": {
    "name": "ipython",
    "version": 3
   },
   "file_extension": ".py",
   "mimetype": "text/x-python",
   "name": "python",
   "nbconvert_exporter": "python",
   "pygments_lexer": "ipython3",
   "version": "3.12.0"
  },
  "orig_nbformat": 4
 },
 "nbformat": 4,
 "nbformat_minor": 2
}
